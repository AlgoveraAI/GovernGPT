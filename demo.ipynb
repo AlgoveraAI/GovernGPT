{
 "cells": [
  {
   "cell_type": "code",
   "execution_count": 1,
   "id": "7bb7da0a",
   "metadata": {},
   "outputs": [],
   "source": [
    "import os\n",
    "import openai\n",
    "\n",
    "openai.api_key = os.getenv(\"OPENAI_API_KEY\")\n",
    "\n",
    "def format_response(response):\n",
    "    text = response[\"choices\"][0][\"text\"]\n",
    "    return text.split(\"\\n\\n###\\n\")[0].strip()"
   ]
  },
  {
   "cell_type": "code",
   "execution_count": 2,
   "id": "f43a4fc7",
   "metadata": {},
   "outputs": [
    {
     "name": "stdout",
     "output_type": "stream",
     "text": [
      "IMPORTANT: You are using gradio version 3.5, however version 3.14.0 is available, please upgrade.\n",
      "--------\n",
      "Running on local URL:  http://127.0.0.1:7860\n",
      "\n",
      "To create a public link, set `share=True` in `launch()`.\n"
     ]
    },
    {
     "data": {
      "text/html": [
       "<div><iframe src=\"http://127.0.0.1:7860/\" width=\"900\" height=\"500\" allow=\"autoplay; camera; microphone; clipboard-read; clipboard-write;\" frameborder=\"0\" allowfullscreen></iframe></div>"
      ],
      "text/plain": [
       "<IPython.core.display.HTML object>"
      ]
     },
     "metadata": {},
     "output_type": "display_data"
    },
    {
     "data": {
      "text/plain": [
       "(<gradio.routes.App at 0x1336d9a30>, 'http://127.0.0.1:7860/', None)"
      ]
     },
     "execution_count": 2,
     "metadata": {},
     "output_type": "execute_result"
    },
    {
     "name": "stdout",
     "output_type": "stream",
     "text": [
      "Given a title write an outline\n",
      "Given a title and a summary write an outline\n",
      "Given a title and a summary write an outline\n",
      "Given a title and a summary and previous sections continue to write the next section\n",
      "Given a title and a summary and previous sections continue to write the next section\n"
     ]
    }
   ],
   "source": [
    "import gradio as gr\n",
    "\n",
    "def generate_outline(task, model, title, summary, text):\n",
    "    if \"outline\" in task.lower():\n",
    "        instruction_end = \"write an outline\"\n",
    "    else:\n",
    "        instruction_end = \"continue to write the next section\"\n",
    "    \n",
    "    if \"davinci\" in model:\n",
    "        model_link = \"davinci:ft-algovera:governgpt-davinci-attempt-feb1-2023-02-01-16-34-10\"\n",
    "    else:\n",
    "        model_link = \"curie:ft-algovera:governgpt-curie-attempt-jan30-2023-01-31-00-32-08\"\n",
    "        \n",
    "    instruction_start = \"Given\"\n",
    "    content = \"\"\n",
    "    add_and = False\n",
    "    \n",
    "    title = title.strip()\n",
    "    summary = summary.strip()\n",
    "    text = text.strip()\n",
    "    \n",
    "    if title != \"\":\n",
    "        instruction_start += \" a title\"\n",
    "        content += f\"{title}\"\n",
    "        add_and = True\n",
    "\n",
    "    if summary != \"\":\n",
    "        if add_and:\n",
    "            instruction_start += \" and a summary\"\n",
    "            content += f\"\\n{summary}\"\n",
    "        else:\n",
    "            instruction_start += \" a summary\"\n",
    "            content += f\"{summary}\"\n",
    "            add_and = True\n",
    "    \n",
    "    if text != \"\":\n",
    "        if add_and:\n",
    "            instruction_start += \" and previous sections\"\n",
    "            content += f\"\\n{text}\"\n",
    "        else:\n",
    "            instruction_start += \" previous sections\"\n",
    "            context += f\"{text}\"\n",
    "            add_and = True\n",
    "\n",
    "    print (f\"{instruction_start} {instruction_end}\")\n",
    "    prompt = f\"{instruction_start} {instruction_end}\\n{content}\\n\\n###\\n\\n\"\n",
    "\n",
    "    response = openai.Completion.create(\n",
    "      model=model_link,\n",
    "      prompt=prompt,\n",
    "      temperature=0.7,\n",
    "      max_tokens=512,\n",
    "      top_p=1,\n",
    "      frequency_penalty=0,\n",
    "      presence_penalty=0\n",
    "    )\n",
    "    \n",
    "    return (format_response(response))\n",
    "\n",
    "inputs = [\n",
    "        gr.Dropdown(choices=[\"Write an Outline\", \"Write Next Section\"], value=\"Write an Outline\", label=\"Task\"),\n",
    "        gr.Radio(choices=[\"ft_davinci\", \"ft_currie\"], value=\"ft_davinci\", label=\"Model\"),\n",
    "        gr.Textbox(placeholder=\"Code Of Conduct Change\", label=\"Title\"),\n",
    "        gr.Textbox(placeholder=\"Propose a Directive to update the Code Of Conduct. The Code of Conduct was Created pre to in -Season 5 to attend to general differences in the DAO. This Code of Conduct does not include directives towards bad actors, conflicts that go beyond Ombuds Inclusion, Or perceived behavior towards contributors.\", \n",
    "                    label=\"Summary\", lines=3),\n",
    "        gr.Textbox(placeholder=\"In order to keep developing the idea of a comprehensive code of conduct, this proposal welcomes criticism and ideas from different levels of contributors in the DAO. BanklessDAO strives to be a community that can comfortably incubate ideas of all kinds to better promote the mission of the DAO. We welcome all ideas for evaluation and deeper understanding.\",\n",
    "                   label=\"Text\", lines=3)]\n",
    "\n",
    "demo = gr.Interface(fn=generate_outline, \n",
    "                    inputs=inputs,\n",
    "                    outputs=gr.Textbox(label=\"Generated Text\"),\n",
    "                    title=\"Build DAO proposals with GPT3 (Bankless edition)\")\n",
    "    \n",
    "demo.launch()"
   ]
  },
  {
   "cell_type": "code",
   "execution_count": null,
   "id": "02494bda",
   "metadata": {},
   "outputs": [],
   "source": []
  }
 ],
 "metadata": {
  "kernelspec": {
   "display_name": "Python 3 (ipykernel)",
   "language": "python",
   "name": "python3"
  },
  "language_info": {
   "codemirror_mode": {
    "name": "ipython",
    "version": 3
   },
   "file_extension": ".py",
   "mimetype": "text/x-python",
   "name": "python",
   "nbconvert_exporter": "python",
   "pygments_lexer": "ipython3",
   "version": "3.8.11"
  }
 },
 "nbformat": 4,
 "nbformat_minor": 5
}
